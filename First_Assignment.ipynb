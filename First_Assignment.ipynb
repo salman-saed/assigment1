{
 "cells": [
  {
   "cell_type": "code",
   "execution_count": null,
   "id": "17230514",
   "metadata": {},
   "outputs": [],
   "source": []
  },
  {
   "cell_type": "markdown",
   "id": "068c6572",
   "metadata": {},
   "source": [
    "# 1) A company decided to give bonus of 5% to employee if his/her year of service is more than 5 years. Ask user for their salary and year of service and print the net bonus amount."
   ]
  },
  {
   "cell_type": "code",
   "execution_count": 5,
   "id": "4fc5cbf8",
   "metadata": {},
   "outputs": [
    {
     "name": "stdout",
     "output_type": "stream",
     "text": [
      "enter your salary 10000\n",
      "enter your years of service 6\n",
      "net bonus amount:500.0\n"
     ]
    }
   ],
   "source": [
    "salary = float(input(\"enter your salary \"))\n",
    "years_of_service = int(input(\"enter your years of service \"))\n",
    "\n",
    "if years_of_service > 5:\n",
    "    bonus_amount = 0.05 * salary\n",
    "    print(f\"net bonus amount:{bonus_amount}\")\n",
    "else:\n",
    "    print(\"no bonus for less than 5 years of service\")"
   ]
  },
  {
   "cell_type": "markdown",
   "id": "e542e48f",
   "metadata": {},
   "source": [
    "# 2) Write a program to check whether a person is eligible for voting or not. (accept age from user) if age is greater than 17 eligible otherwise not eligible"
   ]
  },
  {
   "cell_type": "code",
   "execution_count": 4,
   "id": "a72d3741",
   "metadata": {},
   "outputs": [
    {
     "name": "stdout",
     "output_type": "stream",
     "text": [
      "enter your age 18\n",
      "your age eligible for vote\n"
     ]
    }
   ],
   "source": [
    "age = int(input(\"enter your age \"))\n",
    "\n",
    "if age > 17:\n",
    "    print(\"your age eligible for vote\")\n",
    "else:\n",
    "    print(\"you are not eligible to vote\")"
   ]
  },
  {
   "cell_type": "markdown",
   "id": "0a00ab7d",
   "metadata": {},
   "source": [
    "# 3) Write a program to check whether a number entered by user is even or odd."
   ]
  },
  {
   "cell_type": "code",
   "execution_count": 7,
   "id": "04bdf35f",
   "metadata": {},
   "outputs": [
    {
     "name": "stdout",
     "output_type": "stream",
     "text": [
      "enter your number 2\n",
      "number is even\n"
     ]
    }
   ],
   "source": [
    "number = int(input(\"enter your number \"))\n",
    "\n",
    "if number % 2 == 0:\n",
    "    print(\"number is even\")\n",
    "else:\n",
    "    print(\"number is odd\")"
   ]
  },
  {
   "cell_type": "markdown",
   "id": "f0368b65",
   "metadata": {},
   "source": [
    "# 4) Write a program to check whether a number is divisible by 7 or not. Show Answer"
   ]
  },
  {
   "cell_type": "code",
   "execution_count": 10,
   "id": "2721ca58",
   "metadata": {},
   "outputs": [
    {
     "name": "stdout",
     "output_type": "stream",
     "text": [
      "enter your number 6\n",
      "number is not divisible by 7.\n"
     ]
    }
   ],
   "source": [
    "number = int(input(\"enter your number \"))\n",
    "\n",
    "if number % 7 == 0:\n",
    "    print(\"number is divisible by 7.\")\n",
    "else:\n",
    "    print(\"number is not divisible by 7.\")"
   ]
  },
  {
   "cell_type": "markdown",
   "id": "a4cc615c",
   "metadata": {},
   "source": [
    "# 5) Write a program to display \"Hello\" if a number entered by user is a multiple of five , otherwise print \"Bye\"."
   ]
  },
  {
   "cell_type": "code",
   "execution_count": 13,
   "id": "935a3f52",
   "metadata": {},
   "outputs": [
    {
     "name": "stdout",
     "output_type": "stream",
     "text": [
      "enter your number 5\n",
      "hello\n"
     ]
    }
   ],
   "source": [
    "number = int(input(\"enter your number \"))\n",
    "\n",
    "if number % 5 == 0:\n",
    "    print(\"hello\")\n",
    "else:\n",
    "    print(\"bye\")"
   ]
  },
  {
   "cell_type": "markdown",
   "id": "29cc63bf",
   "metadata": {},
   "source": [
    "# 6) Write a program to calculate the electricity bill (accept number of unit from user) according to the following criteria : Unit Price\n",
    "uptp 100 units no charge Next 200 units Rs 5 per unit After 200 units Rs 10 per unit (For example if input unit is 350 than total bill amount is\n",
    "Rs.3500 (For example if input unit is 97 than total bill amount is Rs.0 (For example if input unit is 150 than total bill amount is Rs.750"
   ]
  },
  {
   "cell_type": "code",
   "execution_count": 9,
   "id": "7bd1c385",
   "metadata": {},
   "outputs": [
    {
     "name": "stdout",
     "output_type": "stream",
     "text": [
      "enter the number of units200\n",
      "total bill amount: RS. 500\n"
     ]
    }
   ],
   "source": [
    "units = int(input(\"enter the number of units\"))\n",
    "\n",
    "if units <= 100:\n",
    "    total_bill = 0\n",
    "elif units <= 300:\n",
    "    total_bill = (units - 100) * 5\n",
    "else:\n",
    "    total_bill = 200 * 5 + (units - 300) * 10\n",
    "print(f\"total bill amount: RS. {total_bill}\")"
   ]
  },
  {
   "cell_type": "markdown",
   "id": "0abfb0f6",
   "metadata": {},
   "source": [
    "# 7) Write a program to display the last digit of a number."
   ]
  },
  {
   "cell_type": "code",
   "execution_count": 17,
   "id": "7eb4cb02",
   "metadata": {},
   "outputs": [
    {
     "name": "stdout",
     "output_type": "stream",
     "text": [
      "enter a number: 14\n",
      "last digit of the number is: 4\n"
     ]
    }
   ],
   "source": [
    "number = int(input(\"enter a number: \"))\n",
    "last_number = number % 10\n",
    "print(f\"last digit of the number is: {last_number}\")\n"
   ]
  },
  {
   "cell_type": "markdown",
   "id": "007d2881",
   "metadata": {},
   "source": [
    "# 8) Write a program to check whether the last digit of a number( entered by user ) is divisible by 3 or not."
   ]
  },
  {
   "cell_type": "code",
   "execution_count": 19,
   "id": "bef03e47",
   "metadata": {},
   "outputs": [
    {
     "name": "stdout",
     "output_type": "stream",
     "text": [
      "enter a number 4\n",
      "the last digit is not divisible by 3.\n"
     ]
    }
   ],
   "source": [
    "number = int(input(\"enter a number \"))\n",
    "\n",
    "if (number % 10) % 3 == 0:\n",
    "    print(\"the last digit is divisible by 3.\")\n",
    "else:\n",
    "    print(\"the last digit is not divisible by 3.\")"
   ]
  },
  {
   "cell_type": "markdown",
   "id": "15ce43fb",
   "metadata": {},
   "source": [
    "# 9) Take values of length and breadth of a rectangle from user and print if it is square or rectangle."
   ]
  },
  {
   "cell_type": "code",
   "execution_count": 20,
   "id": "e1be670c",
   "metadata": {},
   "outputs": [
    {
     "name": "stdout",
     "output_type": "stream",
     "text": [
      "enter the lenght of the rectangle 3\n",
      "enter the breadth of the rectangle 4\n",
      "it is ractangle\n"
     ]
    }
   ],
   "source": [
    "lenght = float(input(\"enter the lenght of the rectangle \"))\n",
    "breadth = float(input(\"enter the breadth of the rectangle \"))\n",
    "\n",
    "if lenght == breadth:\n",
    "    print(\"it is a square\")\n",
    "else:\n",
    "    print(\"it is ractangle\")"
   ]
  },
  {
   "cell_type": "markdown",
   "id": "c3dfb1c1",
   "metadata": {},
   "source": [
    "# 10) Take two int values from user and print greatest among them."
   ]
  },
  {
   "cell_type": "code",
   "execution_count": 22,
   "id": "3a838ab0",
   "metadata": {},
   "outputs": [
    {
     "name": "stdout",
     "output_type": "stream",
     "text": [
      "enter the first number 3\n",
      "enter the second number 2\n",
      "3 is greatest\n"
     ]
    }
   ],
   "source": [
    "num1 = int(input(\"enter the first number \"))\n",
    "num2 = int(input(\"enter the second number \"))\n",
    "\n",
    "if num1 > num2:\n",
    "    print(f\"{num1} is greatest\")\n",
    "else:\n",
    "    print(f\"{num2} is greatest\")"
   ]
  },
  {
   "cell_type": "markdown",
   "id": "8598b343",
   "metadata": {},
   "source": [
    "# 11) A shop will give discount of 10% if the cost of purchased quantity is more than 1000. Ask user for quantity Suppose, one unit will cost 100 Judge and print total cost for user."
   ]
  },
  {
   "cell_type": "code",
   "execution_count": 25,
   "id": "737c2b68",
   "metadata": {},
   "outputs": [
    {
     "name": "stdout",
     "output_type": "stream",
     "text": [
      "enter your quantity 100\n",
      "total_cost: 9000.0\n"
     ]
    }
   ],
   "source": [
    "quantity = int(input(\"enter your quantity \"))\n",
    "cost_per_unit = 100\n",
    "total_cost = quantity * cost_per_unit\n",
    "if total_cost > 1000:\n",
    "    discount = 0.1 * total_cost\n",
    "    total_cost -= discount\n",
    "print(f\"total_cost: {total_cost}\")"
   ]
  },
  {
   "cell_type": "markdown",
   "id": "ceeed9c6",
   "metadata": {},
   "source": [
    "# 12) A school has following rules for grading system:\n",
    "a. Below 25 - F\n",
    "b. 25 to 45 - E\n",
    "c. 45 to 50 - D\n",
    "d. 50 to 60 - C\n",
    "e. 60 to 80 - B\n",
    "f. Above 80 - A\n",
    "Ask user to enter marks and print the corresponding grade."
   ]
  },
  {
   "cell_type": "code",
   "execution_count": 27,
   "id": "42875d9b",
   "metadata": {},
   "outputs": [
    {
     "name": "stdout",
     "output_type": "stream",
     "text": [
      "enter your marks 90\n",
      "your grade is: A\n"
     ]
    }
   ],
   "source": [
    "marks = float(input(\"enter your marks \"))\n",
    "\n",
    "if marks < 25:\n",
    "    grade = 'F'\n",
    "elif 25 <= marks < 45:\n",
    "    grade = 'E'\n",
    "elif 45 <= marks < 50:\n",
    "    grade = 'D'\n",
    "elif 50 <= marks < 60:\n",
    "    grade = 'C'\n",
    "elif 60 <= marks < 80:\n",
    "    grade = 'B'\n",
    "else:\n",
    "    grade = 'A'\n",
    "print(f\"your grade is: {grade}\")"
   ]
  },
  {
   "cell_type": "markdown",
   "id": "5fa78014",
   "metadata": {},
   "source": [
    "# 13) Take input of age of 3 people by user and determine oldest and youngest among them."
   ]
  },
  {
   "cell_type": "code",
   "execution_count": 10,
   "id": "4c60dd25",
   "metadata": {},
   "outputs": [
    {
     "name": "stdout",
     "output_type": "stream",
     "text": [
      "enter of age person 1: 17\n",
      "enter of age person 2: 27\n",
      "enter of age person 3: 37\n",
      " the oldest person is 37 years old. \n",
      " the youngest person is 17 years old. \n"
     ]
    }
   ],
   "source": [
    "age1 = int(input(\"enter of age person 1: \"))\n",
    "age2 = int(input(\"enter of age person 2: \"))\n",
    "age3 = int(input(\"enter of age person 3: \"))\n",
    "\n",
    "oldest = max(age1,age2,age3)\n",
    "youngest = min(age1,age2,age3)\n",
    "\n",
    "print(f\" the oldest person is {oldest} years old. \")\n",
    "print(f\" the youngest person is {youngest} years old. \")"
   ]
  },
  {
   "cell_type": "markdown",
   "id": "a70cbaf2",
   "metadata": {},
   "source": [
    "# 14)A student will not be allowed to sit in exam if his/her attendence is less than 75%.\n",
    "Take following input from user\n",
    "Number of classes held\n",
    "Number of classes attended.\n",
    "And print\n",
    "percentage of class attended\n",
    "Is student is allowed to sit in exam or not."
   ]
  },
  {
   "cell_type": "code",
   "execution_count": 6,
   "id": "ab2372da",
   "metadata": {},
   "outputs": [
    {
     "name": "stdout",
     "output_type": "stream",
     "text": [
      "enter the number of classes held 75\n",
      "enter the number of classes attended 76\n",
      "percentage of classes attended: 101.33333333333334%\n",
      "the student is allowed to sit in the exam\n"
     ]
    }
   ],
   "source": [
    "classes_held = int(input(\"enter the number of classes held \"))\n",
    "classes_attended = int(input(\"enter the number of classes attended \"))\n",
    "attendence_percentage = (classes_attended / classes_held) * 100\n",
    "print(f\"percentage of classes attended: {attendence_percentage}%\")\n",
    "\n",
    "if attendence_percentage >= 75:\n",
    "    print(\"the student is allowed to sit in the exam\")\n",
    "else:\n",
    "    print(\"the student is not allowed to sit in the exam\")"
   ]
  },
  {
   "cell_type": "markdown",
   "id": "61254626",
   "metadata": {},
   "source": [
    "# 15) Modify the above question to allow student to sit if he/she has medical cause. Ask user if he/she has medical cause or not ( 'Y' or 'N' ) and print accordingly."
   ]
  },
  {
   "cell_type": "code",
   "execution_count": 7,
   "id": "236aaf1f",
   "metadata": {},
   "outputs": [
    {
     "name": "stdout",
     "output_type": "stream",
     "text": [
      "enter the number of classes held 88\n",
      "enter the number of classes attended 89\n",
      "dose the student have a madical cause? (Y/N): Y\n",
      "percentage of classes attended: 101.13636363636364%\n",
      "the student is allowed to sit in the exam\n"
     ]
    }
   ],
   "source": [
    "classes_held = int(input(\"enter the number of classes held \"))\n",
    "classes_attended = int(input(\"enter the number of classes attended \"))\n",
    "madical_cause = input(\"dose the student have a madical cause? (Y/N): \")\n",
    "attendence_percentage = (classes_attended / classes_held) * 100\n",
    "print(f\"percentage of classes attended: {attendence_percentage}%\")\n",
    "\n",
    "if attendence_percentage >= 75 or madical_cause.upper() == 'Y':\n",
    "    print(\"the student is allowed to sit in the exam\")\n",
    "else:\n",
    "    print(\"the student is not allowed to sit in the exam\")"
   ]
  },
  {
   "cell_type": "markdown",
   "id": "36da1d0a",
   "metadata": {},
   "source": [
    "# 16) Write a program to check if a year is leap year or not. If a year is divisible by 4 then it is leap year but if the year is century year like 2000, 1900, 2100 then it must be divisible by 400."
   ]
  },
  {
   "cell_type": "code",
   "execution_count": 9,
   "id": "90d19aaf",
   "metadata": {},
   "outputs": [
    {
     "name": "stdout",
     "output_type": "stream",
     "text": [
      "2024 this is leap year\n"
     ]
    }
   ],
   "source": [
    "def is_leap_year(year):\n",
    "    if (year % 4 == 0 and year % 100 != 0) or (year % 400 == 0):\n",
    "        return True\n",
    "    else:\n",
    "        return False\n",
    "    \n",
    "year_to_check = 2024\n",
    "if is_leap_year(year_to_check):\n",
    "    print(f\"{year_to_check} this is leap year\")\n",
    "else:\n",
    "    print(f\"{year_to_check} this is not leap year\")"
   ]
  },
  {
   "cell_type": "markdown",
   "id": "2bf33068",
   "metadata": {},
   "source": [
    "# 17) Ask user to enter age, gender ( M or F ), marital status ( Y or N ) and then using following rules print their place of service.\n",
    "if employee is female, then she will work only in urban areas.\n",
    "if employee is a male and age is in between 20 to 40 then he may work in anywhere\n",
    "if employee is male and age is in between 40 t0 60 then he will work in urban areas only.\n",
    "And any other input of age should print \"ERROR\""
   ]
  },
  {
   "cell_type": "code",
   "execution_count": 2,
   "id": "58b36b54",
   "metadata": {},
   "outputs": [
    {
     "name": "stdout",
     "output_type": "stream",
     "text": [
      "enter your age: 35\n",
      "enter your gender (Male / Female): Male\n",
      "enter your satuts(Y / N): N\n",
      "he works anywhere !\n"
     ]
    }
   ],
   "source": [
    "age = int(input(\"enter your age: \"))\n",
    "gender = input(\"enter your gender (Male / Female): \")\n",
    "marital_status = input(\"enter your satuts(Y / N): \")\n",
    "\n",
    "if gender == \"Female\" and age < 20 or marital_status == \"Y\":\n",
    "    print(\"she works only urban areas !\")\n",
    "elif gender == \"Male\" and age >= 30 or marital_status == \"N\":\n",
    "    print(\"he works anywhere !\")\n",
    "elif gender == \"Male\" and age >= 50 or marital_status == \"Y\":\n",
    "    print(\"he works only urban areas !\")\n",
    "else:\n",
    "    print(\"other input of age should print ERROR\")"
   ]
  },
  {
   "cell_type": "code",
   "execution_count": null,
   "id": "56f046bb",
   "metadata": {},
   "outputs": [],
   "source": []
  },
  {
   "cell_type": "code",
   "execution_count": null,
   "id": "53a2b18a",
   "metadata": {},
   "outputs": [],
   "source": []
  },
  {
   "cell_type": "code",
   "execution_count": null,
   "id": "dfe5ba1b",
   "metadata": {},
   "outputs": [],
   "source": []
  },
  {
   "cell_type": "code",
   "execution_count": null,
   "id": "3df24069",
   "metadata": {},
   "outputs": [],
   "source": []
  }
 ],
 "metadata": {
  "kernelspec": {
   "display_name": "Python 3 (ipykernel)",
   "language": "python",
   "name": "python3"
  },
  "language_info": {
   "codemirror_mode": {
    "name": "ipython",
    "version": 3
   },
   "file_extension": ".py",
   "mimetype": "text/x-python",
   "name": "python",
   "nbconvert_exporter": "python",
   "pygments_lexer": "ipython3",
   "version": "3.11.5"
  }
 },
 "nbformat": 4,
 "nbformat_minor": 5
}
